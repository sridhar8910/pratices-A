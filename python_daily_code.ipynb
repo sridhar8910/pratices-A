{
  "nbformat": 4,
  "nbformat_minor": 0,
  "metadata": {
    "colab": {
      "provenance": [],
      "authorship_tag": "ABX9TyM2Ya0NNFQTEUl0HgIMUWWe",
      "include_colab_link": true
    },
    "kernelspec": {
      "name": "python3",
      "display_name": "Python 3"
    },
    "language_info": {
      "name": "python"
    }
  },
  "cells": [
    {
      "cell_type": "markdown",
      "metadata": {
        "id": "view-in-github",
        "colab_type": "text"
      },
      "source": [
        "<a href=\"https://colab.research.google.com/github/sridhar8910/pratices-A/blob/main/python_daily_code.ipynb\" target=\"_parent\"><img src=\"https://colab.research.google.com/assets/colab-badge.svg\" alt=\"Open In Colab\"/></a>"
      ]
    },
    {
      "cell_type": "markdown",
      "source": [
        "DICE GAME IN PYTHON\n"
      ],
      "metadata": {
        "id": "N0sHLf_JxbS_"
      }
    },
    {
      "cell_type": "code",
      "source": [
        "import random\n",
        "import os\n",
        "\n",
        "\n",
        "def num_die():\n",
        "  while True:\n",
        "      try:\n",
        "          num_dice = input('Number of dice: ')\n",
        "          valid_responses = ['1', 'one', 'two', '2']\n",
        "          if num_dice not in valid_responses:\n",
        "              print( ValueError('1 or 2 only'))\n",
        "          else:\n",
        "              return num_dice\n",
        "      except ValueError as err:\n",
        "          print(err)\n",
        "\n",
        "\n",
        "def roll_dice():\n",
        "   min_val = 1\n",
        "   max_val = 6\n",
        "   roll_again = 'y'\n",
        "\n",
        "   while roll_again.lower() == 'yes' or roll_again.lower() == 'y':\n",
        "       os.system('cls' if os.name == 'nt' else 'clear')\n",
        "       amount = num_die()\n",
        "\n",
        "       if amount == '2' or amount == 'two':\n",
        "           print('Rolling the dice...')\n",
        "           dice_1 = random.randint(min_val, max_val)\n",
        "           dice_2 = random.randint(min_val, max_val)\n",
        "\n",
        "           print('The values are:')\n",
        "           print('Dice One: ', dice_1)\n",
        "           print('Dice Two: ', dice_2)\n",
        "           print('Total: ', dice_1 + dice_2)\n",
        "\n",
        "           roll_again = input('Roll Again? ')\n",
        "       else:\n",
        "           print('Rolling the die...')\n",
        "           dice_1 = random.randint(min_val, max_val)\n",
        "           print(f'The value is: {dice_1}')\n",
        "\n",
        "           roll_again = input('Roll Again? ')\n",
        "\n",
        "   else:\n",
        "     print(\"game over\")\n",
        "if __name__ == '__main__':\n",
        "   roll_dice()"
      ],
      "metadata": {
        "colab": {
          "base_uri": "https://localhost:8080/"
        },
        "id": "OemXfOU6gEpj",
        "outputId": "c9af14ea-6e1d-4f33-a9bb-b3ca8daf547c"
      },
      "execution_count": null,
      "outputs": [
        {
          "output_type": "stream",
          "name": "stdout",
          "text": [
            "Number of dice: 2\n",
            "Rolling the dice...\n",
            "The values are:\n",
            "Dice One:  3\n",
            "Dice Two:  1\n",
            "Total:  4\n",
            "Roll Again? n\n",
            "game over\n"
          ]
        }
      ]
    }
  ]
}